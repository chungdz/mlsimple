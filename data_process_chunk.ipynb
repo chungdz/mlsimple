{
 "cells": [
  {
   "cell_type": "code",
   "execution_count": 1,
   "id": "a47f39b5",
   "metadata": {},
   "outputs": [],
   "source": [
    "import numpy as np\n",
    "import pandas as pd\n",
    "import os\n",
    "from tqdm import tqdm\n",
    "import json\n",
    "import argparse"
   ]
  },
  {
   "cell_type": "code",
   "execution_count": 5,
   "id": "90e1bbca",
   "metadata": {},
   "outputs": [],
   "source": [
    "header = pd.read_csv('data/header.tsv', sep='\\t')"
   ]
  },
  {
   "cell_type": "code",
   "execution_count": 21,
   "id": "2e49b685",
   "metadata": {},
   "outputs": [],
   "source": [
    "df = pd.read_csv('data/sample.tsv', sep='\\t', names=header.columns, iterator=True, chunksize=10000)\n",
    "valid_df = pd.read_csv('data/valid.tsv', sep='\\t', names=header.columns, iterator=True, chunksize=10000)"
   ]
  },
  {
   "cell_type": "code",
   "execution_count": 13,
   "id": "647a9876",
   "metadata": {},
   "outputs": [
    {
     "name": "stdout",
     "output_type": "stream",
     "text": [
      "0\n",
      "1\n",
      "2\n",
      "3\n",
      "4\n",
      "5\n",
      "6\n",
      "7\n",
      "8\n",
      "end\n",
      "0\n",
      "1\n",
      "2\n",
      "3\n",
      "4\n",
      "5\n",
      "6\n",
      "7\n",
      "8\n",
      "9\n",
      "end\n"
     ]
    }
   ],
   "source": [
    "loop = 2\n",
    "index = 0\n",
    "while loop > 0:\n",
    "    try:\n",
    "        chunk = df.__next__()\n",
    "        print(index)\n",
    "        index += 1\n",
    "    except:\n",
    "        print('end')\n",
    "        index = 0\n",
    "        loop -= 1\n",
    "        df = pd.read_csv('data/sample.tsv', sep='\\t', names=header.columns, iterator=True, chunksize=1024)"
   ]
  },
  {
   "cell_type": "code",
   "execution_count": 9,
   "id": "abd62990",
   "metadata": {},
   "outputs": [],
   "source": [
    "for chunk in df:\n",
    "    print(chunk)"
   ]
  },
  {
   "cell_type": "code",
   "execution_count": 14,
   "id": "5e38d783",
   "metadata": {},
   "outputs": [],
   "source": [
    "flist = [x for x in list(header.columns) if 'Feature' in x]\n",
    "id_feature = [\"m:AdId\", \"m:OrderId\", \"m:CampaignId\", \"m:AdvertiserId\", \"m:ClientID\", \"m:TagId\", \"m:PublisherFullDomainHash\", \"m:PublisherId\", \"m:UserAgentNormalizedHash\",\"m:DeviceOSHash\"]"
   ]
  },
  {
   "cell_type": "code",
   "execution_count": 24,
   "id": "f8c50c27",
   "metadata": {},
   "outputs": [],
   "source": [
    "min_list = []\n",
    "max_list = []\n",
    "ilen = len(id_feature)\n",
    "idxdicts = [{}] * ilen\n",
    "idxrecord = [0] * ilen"
   ]
  },
  {
   "cell_type": "code",
   "execution_count": 17,
   "id": "2f6a9c06",
   "metadata": {},
   "outputs": [],
   "source": [
    "def get_meta_info(chunk):\n",
    "    \n",
    "    cmin_list = []\n",
    "    cmax_list = []\n",
    "    for fname in flist:\n",
    "        cmin_list.append(int(chunk[fname].min()))\n",
    "        cmax_list.append(int(chunk[fname].max()))\n",
    "    \n",
    "    if len(min_list) == 0:\n",
    "        min_list = cmin_list\n",
    "        max_list = cmax_list\n",
    "    \n",
    "    for idname in tqdm(id_feature):\n",
    "        cdict = {}\n",
    "        idx = 0\n",
    "        for v in chunk[idname]:\n",
    "            if str(v) not in cdict:\n",
    "                cdict[str(v)] = idx\n",
    "                idx += 1\n",
    "        idxdicts.append(cdict)"
   ]
  },
  {
   "cell_type": "code",
   "execution_count": 22,
   "id": "6ce63d39",
   "metadata": {},
   "outputs": [
    {
     "name": "stdout",
     "output_type": "stream",
     "text": [
      "0\n",
      "4\n",
      "8\n",
      "end\n",
      "0\n",
      "4\n",
      "8\n",
      "end\n"
     ]
    }
   ],
   "source": [
    "loop = 2\n",
    "index = 0\n",
    "while loop > 0:\n",
    "    try:\n",
    "        chunk = df.__next__()\n",
    "        get_meta_info(chunk)\n",
    "        if index % 4 == 0:\n",
    "            print(index)\n",
    "        index += 1\n",
    "    except:\n",
    "        print('end')\n",
    "        index = 0\n",
    "        loop -= 1\n",
    "        df = valid_df"
   ]
  },
  {
   "cell_type": "code",
   "execution_count": null,
   "id": "b09a4f7e",
   "metadata": {},
   "outputs": [],
   "source": []
  }
 ],
 "metadata": {
  "kernelspec": {
   "display_name": "Python 3 (ipykernel)",
   "language": "python",
   "name": "python3"
  },
  "language_info": {
   "codemirror_mode": {
    "name": "ipython",
    "version": 3
   },
   "file_extension": ".py",
   "mimetype": "text/x-python",
   "name": "python",
   "nbconvert_exporter": "python",
   "pygments_lexer": "ipython3",
   "version": "3.9.12"
  }
 },
 "nbformat": 4,
 "nbformat_minor": 5
}
