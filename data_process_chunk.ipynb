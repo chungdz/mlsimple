{
 "cells": [
  {
   "cell_type": "code",
   "execution_count": 1,
   "id": "4a88af33",
   "metadata": {},
   "outputs": [],
   "source": [
    "import numpy as np\n",
    "import pandas as pd\n",
    "import os\n",
    "from tqdm import tqdm\n",
    "import json\n",
    "import argparse"
   ]
  },
  {
   "cell_type": "code",
   "execution_count": 2,
   "id": "2129af34",
   "metadata": {},
   "outputs": [],
   "source": [
    "header = pd.read_csv('data/header.tsv', sep='\\t')"
   ]
  },
  {
   "cell_type": "code",
   "execution_count": 3,
   "id": "73130e54",
   "metadata": {},
   "outputs": [],
   "source": [
    "df = pd.read_csv('data/sample.tsv', sep='\\t', names=header.columns, iterator=True, chunksize=1000)\n",
    "valid_df = pd.read_csv('data/valid.tsv', sep='\\t', names=header.columns, iterator=True, chunksize=1000)"
   ]
  },
  {
   "cell_type": "code",
   "execution_count": 4,
   "id": "246cacfa",
   "metadata": {},
   "outputs": [],
   "source": [
    "flist = [x for x in list(header.columns) if 'Feature' in x]\n",
    "id_feature = [\"m:AdId\", \"m:OrderId\", \"m:CampaignId\", \"m:AdvertiserId\", \"m:ClientID\", \"m:TagId\", \"m:PublisherFullDomainHash\", \"m:PublisherId\", \"m:UserAgentNormalizedHash\",\"m:DeviceOSHash\"]"
   ]
  },
  {
   "cell_type": "code",
   "execution_count": 5,
   "id": "2dab22c9",
   "metadata": {},
   "outputs": [],
   "source": [
    "min_list = []\n",
    "max_list = []\n",
    "ilen = len(id_feature)\n",
    "idxdicts = [{}] * ilen\n",
    "idxrecord = [0] * ilen"
   ]
  },
  {
   "cell_type": "code",
   "execution_count": 6,
   "id": "f93fb142",
   "metadata": {},
   "outputs": [],
   "source": [
    "def get_meta_info(chunk):\n",
    "    \n",
    "    cmin_list = []\n",
    "    cmax_list = []\n",
    "    for fname in flist:\n",
    "        cmin_list.append(int(chunk[fname].min()))\n",
    "        cmax_list.append(int(chunk[fname].max()))\n",
    "    \n",
    "    llen = len(max_list)\n",
    "    if llen == 0:\n",
    "        min_list = cmin_list\n",
    "        max_list = cmax_list\n",
    "    else:\n",
    "        for i in range(llen):\n",
    "            if cmin_list[i] < min_list[i]:\n",
    "                min_list[i] = cmin_list[i]\n",
    "            if cmax_list[i] > max_list[i]:\n",
    "                max_list[i] = cmax_list[i]\n",
    "                \n",
    "    \n",
    "    for j in range(ilen):\n",
    "        idname = id_feature[i]\n",
    "        for v in chunk[idname]:\n",
    "            if str(v) not in idxdicts[j]:\n",
    "                idxdicts[j] = idxrecord[j]\n",
    "                idxrecord[j] += 1\n"
   ]
  },
  {
   "cell_type": "code",
   "execution_count": 7,
   "id": "8521be0e",
   "metadata": {},
   "outputs": [
    {
     "name": "stderr",
     "output_type": "stream",
     "text": [
      "0it [00:00, ?it/s]\n"
     ]
    },
    {
     "ename": "UnboundLocalError",
     "evalue": "local variable 'max_list' referenced before assignment",
     "output_type": "error",
     "traceback": [
      "\u001b[0;31m---------------------------------------------------------------------------\u001b[0m",
      "\u001b[0;31mUnboundLocalError\u001b[0m                         Traceback (most recent call last)",
      "Input \u001b[0;32mIn [7]\u001b[0m, in \u001b[0;36m<cell line: 4>\u001b[0;34m()\u001b[0m\n\u001b[1;32m      2\u001b[0m index \u001b[38;5;241m=\u001b[39m \u001b[38;5;241m0\u001b[39m\n\u001b[1;32m      4\u001b[0m \u001b[38;5;28;01mfor\u001b[39;00m chunk \u001b[38;5;129;01min\u001b[39;00m tqdm(df):\n\u001b[0;32m----> 5\u001b[0m     \u001b[43mget_meta_info\u001b[49m\u001b[43m(\u001b[49m\u001b[43mchunk\u001b[49m\u001b[43m)\u001b[49m\n\u001b[1;32m      7\u001b[0m \u001b[38;5;28;01mfor\u001b[39;00m chunk \u001b[38;5;129;01min\u001b[39;00m tqdm(valid_df):\n\u001b[1;32m      8\u001b[0m     get_meta_info(chunk)\n",
      "Input \u001b[0;32mIn [6]\u001b[0m, in \u001b[0;36mget_meta_info\u001b[0;34m(chunk)\u001b[0m\n\u001b[1;32m      6\u001b[0m     cmin_list\u001b[38;5;241m.\u001b[39mappend(\u001b[38;5;28mint\u001b[39m(chunk[fname]\u001b[38;5;241m.\u001b[39mmin()))\n\u001b[1;32m      7\u001b[0m     cmax_list\u001b[38;5;241m.\u001b[39mappend(\u001b[38;5;28mint\u001b[39m(chunk[fname]\u001b[38;5;241m.\u001b[39mmax()))\n\u001b[0;32m----> 9\u001b[0m llen \u001b[38;5;241m=\u001b[39m \u001b[38;5;28mlen\u001b[39m(\u001b[43mmax_list\u001b[49m)\n\u001b[1;32m     10\u001b[0m \u001b[38;5;28;01mif\u001b[39;00m llen \u001b[38;5;241m==\u001b[39m \u001b[38;5;241m0\u001b[39m:\n\u001b[1;32m     11\u001b[0m     min_list \u001b[38;5;241m=\u001b[39m cmin_list\n",
      "\u001b[0;31mUnboundLocalError\u001b[0m: local variable 'max_list' referenced before assignment"
     ]
    }
   ],
   "source": [
    "loop = 2\n",
    "index = 0\n",
    "\n",
    "for chunk in tqdm(df):\n",
    "    get_meta_info(chunk)\n",
    "\n",
    "for chunk in tqdm(valid_df):\n",
    "    get_meta_info(chunk)"
   ]
  },
  {
   "cell_type": "code",
   "execution_count": null,
   "id": "f40d026e",
   "metadata": {},
   "outputs": [],
   "source": [
    "while chunk:\n",
    "    chunk = df.__next__()"
   ]
  },
  {
   "cell_type": "code",
   "execution_count": null,
   "id": "e04c2c18",
   "metadata": {},
   "outputs": [],
   "source": []
  }
 ],
 "metadata": {
  "kernelspec": {
   "display_name": "Python 3 (ipykernel)",
   "language": "python",
   "name": "python3"
  },
  "language_info": {
   "codemirror_mode": {
    "name": "ipython",
    "version": 3
   },
   "file_extension": ".py",
   "mimetype": "text/x-python",
   "name": "python",
   "nbconvert_exporter": "python",
   "pygments_lexer": "ipython3",
   "version": "3.9.12"
  }
 },
 "nbformat": 4,
 "nbformat_minor": 5
}
